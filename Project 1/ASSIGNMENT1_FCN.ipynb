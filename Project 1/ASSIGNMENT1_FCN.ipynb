{
  "nbformat": 4,
  "nbformat_minor": 0,
  "metadata": {
    "colab": {
      "provenance": [],
      "collapsed_sections": []
    },
    "kernelspec": {
      "name": "python3",
      "display_name": "Python 3"
    },
    "language_info": {
      "name": "python"
    }
  },
  "cells": [
    {
      "cell_type": "code",
      "execution_count": 1,
      "metadata": {
        "colab": {
          "base_uri": "https://localhost:8080/"
        },
        "id": "OCMrmrp0APiK",
        "outputId": "5be4441b-fe60-4c54-d81e-db3f834e015c"
      },
      "outputs": [
        {
          "output_type": "stream",
          "name": "stdout",
          "text": [
            "Looking in indexes: https://pypi.org/simple, https://us-python.pkg.dev/colab-wheels/public/simple/\n",
            "Collecting dnspython\n",
            "  Downloading dnspython-2.2.1-py3-none-any.whl (269 kB)\n",
            "\u001b[K     |████████████████████████████████| 269 kB 2.1 MB/s \n",
            "\u001b[?25hInstalling collected packages: dnspython\n",
            "Successfully installed dnspython-2.2.1\n",
            "Looking in indexes: https://pypi.org/simple, https://us-python.pkg.dev/colab-wheels/public/simple/\n",
            "Requirement already satisfied: beautifulsoup4 in /usr/local/lib/python3.7/dist-packages (4.6.3)\n"
          ]
        }
      ],
      "source": [
        "!pip install dnspython\n",
        "!pip install beautifulsoup4\n"
      ]
    },
    {
      "cell_type": "code",
      "source": [
        "import requests\n",
        "#from bs4 import BeautifulSoup\n",
        "import re\n",
        "import sys\n",
        "import dns\n",
        "import dns.message\n",
        "import dns.rdataclass\n",
        "import dns.rdatatype\n",
        "import dns.query\n",
        "import time\n",
        "import datetime"
      ],
      "metadata": {
        "id": "7k1Ome3SAX6m"
      },
      "execution_count": 24,
      "outputs": []
    },
    {
      "cell_type": "code",
      "source": [
        "# rootservers = []\n",
        "# #Requesting server page for scraping to get the ip addresses for the root servers\n",
        "# server_page = requests.get('https://www.iana.org/domains/root/servers') # Getting the resource page for fetching the ipaddresses\n",
        "# # Parsing content of the page retreived\n",
        "# htmldata = BeautifulSoup(server_page.content, 'html.parser') \n",
        "# # Selecting 2nd column for the table found on the retreived page where td is the table data\n",
        "# for td in htmldata.select('table tr td:nth-child(2)'):\n",
        "#     pattern =re.compile('''((25[0-5]|2[0-4][0-9]|[01]?[0-9][0-9]?)\\.){3}(25[0-5]|2[0-4][0-9]|[01]?[0-9][0-9]?)''') # Matching regular expressions to retreive the IP Addresses\n",
        "#     address = pattern.search(td.text.strip())\n",
        "#     #if ip address successfully retreived, adding it to the list of root servers\n",
        "#     if address:\n",
        "#         rootservers.append(address[0])"
      ],
      "metadata": {
        "id": "mG4vBQKQKgFq"
      },
      "execution_count": null,
      "outputs": []
    },
    {
      "cell_type": "code",
      "source": [
        "rootservers=['198.41.0.4','199.9.14.201','192.33.4.12', '199.7.91.13','192.203.230.10','192.5.5.241','192.112.36.4', '198.97.190.53', '192.36.148.17', '192.58.128.30','193.0.14.129','199.7.83.42','202.12.27.33']"
      ],
      "metadata": {
        "id": "lFD3d5X9AUVe"
      },
      "execution_count": 3,
      "outputs": []
    },
    {
      "cell_type": "code",
      "source": [
        "def query(domain_name, record_type, server):\n",
        "    # We extract the do,main name from text to pass in to the main query, it returns an object of type dns.name.Name\n",
        "    input_name = dns.name.from_text(str(domain_name))\n",
        "    # We pass the Name object to make_ query function to formulate a query in the format to be sent. It will randomly choose query id and set the flags ot RD. This returns an object of type dns.message.QueryMessage\n",
        "    query_name = dns.message.make_query(input_name, record_type)\n",
        "    # dns.message.Message object is passed to the udp query that is to be sent to the server, which returns a response of type dns.message.Message. This message object has fields like Additional, Answer and Authority which further need to be evaluated.\n",
        "    response = dns.query.udp(query_name, server, timeout=1)\n",
        "    # Checking the flags of the reponse and storing them in flags variable to be returned\n",
        "    return response"
      ],
      "metadata": {
        "id": "86qtKuO7BBwh"
      },
      "execution_count": 4,
      "outputs": []
    },
    {
      "cell_type": "code",
      "source": [
        "def mydig(domain_name, record_type, server_list, record_class):\n",
        "    rootservers=['198.41.0.4','199.9.14.201','192.33.4.12', '199.7.91.13','192.203.230.10','192.5.5.241','192.112.36.4', '198.97.190.53', '192.36.148.17', '192.58.128.30','193.0.14.129','199.7.83.42','202.12.27.33']\n",
        "    for serv in server_list:\n",
        "        try:\n",
        "            response = query(domain_name, record_type, serv)\n",
        "            if not response:\n",
        "                print(\"There is no response from the server:\", serv)\n",
        "            # if serv == '205.251.192.47':\n",
        "            # print(\"*****************ORIGINAL RESPONSE******************\")\n",
        "            # print(response)\n",
        "            # print(\"*****************ORIGINAL RESPONSE******************\")\n",
        "            # print(server_list)\n",
        "\n",
        "\n",
        "            # Firstly we check if we have an answer in the response. If not, only then we move further to check the additional and authority section of response.\n",
        "            while len(response.answer)==0:\n",
        "                # Here we parse through the addresses returned in the addtional section. We first store them in the list and parse and then start running dig on them with the original domain name\n",
        "                if len(response.additional)>0:\n",
        "                    #print(response)\n",
        "                    parse = []\n",
        "                    for address in response.additional:\n",
        "                      if (dns.rdatatype.to_text(address.rdtype) == 'A'):\n",
        "                        parse.append(address[0].address)\n",
        "                    ans = mydig(domain_name, record_type, parse, record_class)\n",
        "                    if ans: return ans\n",
        "\n",
        "                # Here we check the authority section of the response.\n",
        "                elif len(response.authority)>0:\n",
        "                  #print(response)\n",
        "                  # First we check if the section has a record of type SOA. If yes we take the name of the name server and query it against the original root servers, setting record type as A\n",
        "                  for ad in response.authority[0]:\n",
        "                      if dns.rdatatype.to_text(ad.rdtype) == \"SOA\":\n",
        "                          # print(\"SOA!\")\n",
        "                          qname = (str(ad).split(\" \")[0])\n",
        "                          ans = mydig(qname, \"A\", rootservers, record_class)\n",
        "                          if ans: return ans\n",
        "                  ip = []\n",
        "                  # If the response does not have an SOA record, then we move further to query the domain name of the new name servers found against the root server with the intially entered record type.\n",
        "                  for i in range(len(response.authority)):\n",
        "                    ns = response.authority[i][0].to_text()\n",
        "                    auth_ns = mydig(ns, record_type, rootservers, record_type)\n",
        "                    if auth_ns:\n",
        "                      break\n",
        "                  return auth_ns\n",
        "            # If the response has an answer it will enter this section.\n",
        "            if len(response.answer)>0:\n",
        "                #print(\"Hii Answer\")\n",
        "                for ans in response.answer:\n",
        "                    # print(dns.rdatatype.to_text(ans.rdtype))\n",
        "                    # if the response has answer section and is of the record type A, then the answer is returned\n",
        "                    if (dns.rdatatype.to_text(ans.rdtype)==\"A\"):\n",
        "                        return ans\n",
        "                    # if the response has an answer of record type NS or MX, then we query that new name against the rootservers to resolve it.\n",
        "                    elif (dns.rdatatype.to_text(ans.rdtype)==\"NS\") or (dns.rdatatype.to_text(ans.rdtype)==\"MX\"):\n",
        "                        qname = str(response.answer[0]).split(\" \")[-1]\n",
        "                        ans = mydig(qname, record_type, rootservers, record_class)\n",
        "                        if ans: return ans\n",
        "                    # If the record returned is of the type CNAME, we need to to further resolve it to get the final answer and then return it if found\n",
        "                    elif (dns.rdatatype.to_text(ans.rdtype)==\"CNAME\"):\n",
        "                        # print(ans)\n",
        "                        # print(\"CNAME\")\n",
        "                        canonical_name = (str(ans.to_text()).split(\" \")[-1])\n",
        "                        ans2 = mydig(canonical_name, \"A\", rootservers, record_class)\n",
        "                        if ans2:\n",
        "                            return ans2\n",
        "                break\n",
        "        except dns.exception.Timeout:\n",
        "            print(\"***********************\")\n",
        "            print(\"Timeout Error!\")\n",
        "            print(\"***********************\")"
      ],
      "metadata": {
        "id": "WxW-riQXBNdm"
      },
      "execution_count": 20,
      "outputs": []
    },
    {
      "cell_type": "code",
      "source": [
        "# Taking the inputs from the user, using system arguments\n",
        "domain_name = \"www.cnn.com\"\n",
        "record_type = \"A\"\n",
        "record_class = \"IN\"\n",
        "\n",
        "# Printing the question section\n",
        "print(\"QUESTION SECTION:\")\n",
        "print(domain_name + \"        \" + record_class + \" \" + record_type +\"\\n\")\n",
        "\n",
        "# Recording the time to measure the time to resolve a domain name\n",
        "t1 = int(round(time.time()*1000))\n",
        "\n",
        "# Calling the dig function to start resolving the user entered domain name\n",
        "ans= mydig(domain_name, record_type, rootservers, record_class)\n",
        "# print(cname)\n",
        "# if cname==\"cname\":\n",
        "#     while cname==\"cname\":\n",
        "#       print(\"##########################\")\n",
        "#       print(str(ans).split(\" \")[-1])\n",
        "#       print(\"##########################\")\n",
        "#       ans,cname = dig(domain_name, record_type, (str(ans).split(\" \")[-1]), record_class)\n",
        "#       if ans:\n",
        "#         print(ans)\n",
        "\n",
        "# Recording the time once the resolution is complete\n",
        "t2=int(round(time.time()*1000))\n",
        "#print(ans)\n",
        "# Printing the answer section\n",
        "print(\"ANSWER SECTION:\")\n",
        "for ele in ans:\n",
        "  # print(ele)\n",
        "  # a = str(ele).split(\" \")\n",
        "  # print(a)\n",
        "  # a.pop(0)\n",
        "  # (a.pop(0))\n",
        "  # print(domain_name + \" \" + \" \".join(a)+\"\\n\")\n",
        "  print(domain_name+\" \" + record_class + \" A \" + str(ele) )\n",
        "print(\"\\n\")\n",
        "# Printing the query time, the date and time of the resolution and the size of the message received\n",
        "print(\"QUERY TIME: \"+ str(t2-t1)+\"msec\")\n",
        "print(\"WHEN: \", datetime.date.today().strftime(\"%A\"), datetime.date.today().strftime(\n",
        "                            \"%B\"), datetime.date.today().strftime(\n",
        "                            \"%d\"), datetime.datetime.now(), datetime.date.today().strftime(\"%Y\"))\n",
        "print(\"MSG SIZE rcvd: \", sys.getsizeof(ans))"
      ],
      "metadata": {
        "colab": {
          "base_uri": "https://localhost:8080/"
        },
        "id": "SJgZSxRwBVxF",
        "outputId": "2afc5358-de3a-4cc0-b9d1-934d5bec3a84"
      },
      "execution_count": 21,
      "outputs": [
        {
          "output_type": "stream",
          "name": "stdout",
          "text": [
            "QUESTION SECTION:\n",
            "www.cnn.com        IN A\n",
            "\n",
            "ANSWER SECTION:\n",
            "www.cnn.com IN A 151.101.79.5\n",
            "\n",
            "\n",
            "QUERY TIME: 186msec\n",
            "WHEN:  Tuesday September 20 2022-09-20 00:48:42.641656 2022\n",
            "MSG SIZE rcvd:  104\n"
          ]
        }
      ]
    },
    {
      "cell_type": "code",
      "source": [
        "# Taking the inputs from the user, using system arguments\n",
        "\n",
        "domain_name = [\"www.google.com\", \"www.cnn.com\", \"www.facebook.com\",\"google.co.jp\"]\n",
        "record_type = [\"A\",\"NS\",\"MX\",\"A\"]\n",
        "record_class = \"IN\"\n",
        "# Printing the question section\n",
        "f = open(\"mydig_output.txt\", \"a\")\n",
        "print(\"##############################INPUTS#####################################\\n\"+\"1. www.google.com IN A\\n\"+\"2. www.cnn.com IN NS\\n\"+\"3. facebook.com IN MX\\n\"+\"4. google.co.jp\\n\",file = f)\n",
        "for i in range(0,4):\n",
        "  print(\"******************************* \"+ \"EXAMPLE FOR RECORD TYPE \" + record_type[i] +\" *******************************\",file= f)\n",
        "  print(\"QUESTION SECTION:\",file= f)\n",
        "  print(domain_name[i] + \"        \" + record_class + \" \" + record_type[i] +\"\\n\",file= f)\n",
        "\n",
        "  # Recording the time to measure the time to resolve a domain name\n",
        "  t1 = int(round(time.time()*1000))\n",
        "\n",
        "  # Calling the dig function to start resolving the user entered domain name\n",
        "  ans= mydig(domain_name[i], record_type[i], rootservers, record_class)\n",
        "  # print(cname)\n",
        "  # if cname==\"cname\":\n",
        "  #     while cname==\"cname\":\n",
        "  #       print(\"##########################\")\n",
        "  #       print(str(ans).split(\" \")[-1])\n",
        "  #       print(\"##########################\")\n",
        "  #       ans,cname = dig(domain_name, record_type, (str(ans).split(\" \")[-1]), record_class)\n",
        "  #       if ans:\n",
        "  #         print(ans)\n",
        "\n",
        "  # Recording the time once the resolution is complete\n",
        "  t2=int(round(time.time()*1000))\n",
        "  #print(ans)\n",
        "  # Printing the answer section\n",
        "  print(\"ANSWER SECTION:\",file= f)\n",
        "  for ele in ans:\n",
        "    # print(ele)\n",
        "    # a = str(ele).split(\" \")\n",
        "    # print(a)\n",
        "    # a.pop(0)\n",
        "    # (a.pop(0))\n",
        "    # print(domain_name + \" \" + \" \".join(a)+\"\\n\")\n",
        "    print(domain_name[i]+ \"        \" + record_class + \" A \" + str(ele),file= f)\n",
        "  print(\"\\n\",file= f)\n",
        "  # Printing the query time, the date and time of the resolution and the size of the message received\n",
        "  print(\"QUERY TIME: \"+ str(t2-t1)+\"msec\",file= f)\n",
        "  print(\"WHEN: \", datetime.date.today().strftime(\"%A\"), datetime.date.today().strftime(\n",
        "                              \"%B\"), datetime.date.today().strftime(\n",
        "                              \"%d\"), datetime.datetime.now(), datetime.date.today().strftime(\"%Y\"),file= f)\n",
        "  print(\"MSG SIZE rcvd: \", sys.getsizeof(ans),file= f)\n",
        "  print(\"\",file= f)\n",
        "f.close()"
      ],
      "metadata": {
        "id": "IGM5JFc_MwmB"
      },
      "execution_count": 26,
      "outputs": []
    }
  ]
}